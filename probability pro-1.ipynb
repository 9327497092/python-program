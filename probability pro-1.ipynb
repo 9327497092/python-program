{
 "cells": [
  {
   "cell_type": "code",
   "execution_count": 4,
   "id": "76c7d5e9",
   "metadata": {},
   "outputs": [
    {
     "name": "stdout",
     "output_type": "stream",
     "text": [
      "0.6923076923076923\n"
     ]
    }
   ],
   "source": [
    "#probability pro-1\n",
    "total=52\n",
    "king=4\n",
    "samecolor_card=13\n",
    "king_samecolor_card=king+samecolor_card-1\n",
    "difrent_card=total-king_samecolor_card\n",
    "po=difrent_card/total\n",
    "print(po)"
   ]
  },
  {
   "cell_type": "code",
   "execution_count": null,
   "id": "31277a9b",
   "metadata": {},
   "outputs": [],
   "source": []
  }
 ],
 "metadata": {
  "kernelspec": {
   "display_name": "Python 3 (ipykernel)",
   "language": "python",
   "name": "python3"
  },
  "language_info": {
   "codemirror_mode": {
    "name": "ipython",
    "version": 3
   },
   "file_extension": ".py",
   "mimetype": "text/x-python",
   "name": "python",
   "nbconvert_exporter": "python",
   "pygments_lexer": "ipython3",
   "version": "3.9.6"
  }
 },
 "nbformat": 4,
 "nbformat_minor": 5
}
