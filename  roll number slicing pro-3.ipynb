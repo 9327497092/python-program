{
 "cells": [
  {
   "cell_type": "code",
   "execution_count": 41,
   "id": "f057042f",
   "metadata": {},
   "outputs": [
    {
     "name": "stdout",
     "output_type": "stream",
     "text": [
      " dipartment: CS\n",
      " course: M\n",
      " years: 24\n",
      " roll number: 035\n"
     ]
    }
   ],
   "source": [
    "#pro-3 roll number slicing\n",
    "d=\"CSM24035\"\n",
    "print(\" dipartment:\",d[0:2])\n",
    "print(\" course:\",d[2:3])\n",
    "print(\" years:\",d[3:5])\n",
    "print(\" roll number:\",d[5:8])\n",
    "\n",
    "\n"
   ]
  },
  {
   "cell_type": "code",
   "execution_count": null,
   "id": "e2bb2cd0",
   "metadata": {},
   "outputs": [],
   "source": []
  }
 ],
 "metadata": {
  "kernelspec": {
   "display_name": "Python 3 (ipykernel)",
   "language": "python",
   "name": "python3"
  },
  "language_info": {
   "codemirror_mode": {
    "name": "ipython",
    "version": 3
   },
   "file_extension": ".py",
   "mimetype": "text/x-python",
   "name": "python",
   "nbconvert_exporter": "python",
   "pygments_lexer": "ipython3",
   "version": "3.9.6"
  }
 },
 "nbformat": 4,
 "nbformat_minor": 5
}
