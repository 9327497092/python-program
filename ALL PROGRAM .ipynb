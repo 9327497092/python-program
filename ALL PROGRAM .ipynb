{
 "cells": [
  {
   "cell_type": "code",
   "execution_count": 1,
   "id": "24a89f5f",
   "metadata": {},
   "outputs": [
    {
     "name": "stdout",
     "output_type": "stream",
     "text": [
      "Gujarat vithyapith\n"
     ]
    }
   ],
   "source": [
    "#pro-1 variable define and print value\n",
    "name=\"Gujarat vithyapith\";\n",
    "print(name)"
   ]
  },
  {
   "cell_type": "code",
   "execution_count": 1,
   "id": "31eff575",
   "metadata": {},
   "outputs": [
    {
     "name": "stdout",
     "output_type": "stream",
     "text": [
      "enter the no1:20.30\n",
      "enter the no2:30\n",
      "50.3\n"
     ]
    }
   ],
   "source": [
    "#write a python program add 2 number with user input to + OPRETOR \n",
    "a=input(\"enter the no1:\")\n",
    "b=input(\"enter the no2:\")\n",
    "sum=float(a)+float(b)\n",
    "print(sum)\n"
   ]
  },
  {
   "cell_type": "code",
   "execution_count": 3,
   "id": "4a42a72e",
   "metadata": {},
   "outputs": [
    {
     "name": "stdout",
     "output_type": "stream",
     "text": [
      "enter the number1:30\n",
      "enter the number2:30.2\n",
      "b large:\n"
     ]
    }
   ],
   "source": [
    "#write a program to maximum number find to the if else statement \n",
    "a=input(\"enter the number1:\")\n",
    "b=input(\"enter the number2:\")\n",
    "if a>b:\n",
    "    print(\"a large :\")\n",
    "else:\n",
    "        print(\"b large:\")"
   ]
  },
  {
   "cell_type": "code",
   "execution_count": 12,
   "id": "d3cd2757",
   "metadata": {},
   "outputs": [
    {
     "name": "stdout",
     "output_type": "stream",
     "text": [
      "Enter the number1:-10\n",
      "55.0\n"
     ]
    }
   ],
   "source": [
    "#write a program to sum natural numbar \n",
    "a=int(input(\"Enter the number1:-\"))\n",
    "sum=a*(a+1)/2\n",
    "print(sum)"
   ]
  },
  {
   "cell_type": "code",
   "execution_count": 12,
   "id": "dff6b55a",
   "metadata": {},
   "outputs": [
    {
     "name": "stdout",
     "output_type": "stream",
     "text": [
      "enter the number22\n",
      "22 is not prime number\n"
     ]
    }
   ],
   "source": [
    "# enter the number prime or not\n",
    "num1=input(\"enter the number\")\n",
    "num=int(num1)\n",
    "if num > 1:\n",
    "   for i in range(2,int(num/2)+1):\n",
    "        if(num % i)==0:\n",
    "            print(num,\"is not prime number\")\n",
    "            break\n",
    "        else:\n",
    "            print(num,\"the number is prime\")\n",
    "else:\n",
    "        print(num,\"the number is not prime\")"
   ]
  },
  {
   "cell_type": "code",
   "execution_count": null,
   "id": "9e1da6bd",
   "metadata": {},
   "outputs": [],
   "source": [
    "# write a program to find the length of a string using for loop \n",
    "a=\"deesa\"\n",
    " for i in range"
   ]
  },
  {
   "cell_type": "code",
   "execution_count": 7,
   "id": "66f3d728",
   "metadata": {},
   "outputs": [
    {
     "name": "stdout",
     "output_type": "stream",
     "text": [
      "False\n",
      "A\n",
      "\n",
      "\n",
      "B\n",
      "K\n",
      "1\n",
      "GUJ\n",
      "True\n"
     ]
    }
   ],
   "source": [
    "#slicing program\n",
    "print('' or False)\n",
    "print('A'or'B')\n",
    "print('\\n')\n",
    "print('B'or'A')\n",
    "print('K'or 1)\n",
    "print(1 or'K')\n",
    "print('GUJ'or True)\n",
    "print(True or 'GUJ')\n"
   ]
  },
  {
   "cell_type": "code",
   "execution_count": 23,
   "id": "8dea2b9d",
   "metadata": {},
   "outputs": [
    {
     "name": "stdout",
     "output_type": "stream",
     "text": [
      "GUJARAT VIDYAPITH\n",
      "G\n",
      "GUJ\n",
      "H\n",
      "GUJARAT VIDYAPIT\n",
      "HYTU\n"
     ]
    }
   ],
   "source": [
    "#slicing program\n",
    "n='GUJARAT VIDYAPITH'\n",
    "print(n)\n",
    "print(n[0])\n",
    "print(n[0:3])\n",
    "print(n[-1])\n",
    "print(n[:-1])\n",
    "print(n[-1::-5])"
   ]
  },
  {
   "cell_type": "code",
   "execution_count": 26,
   "id": "dc373490",
   "metadata": {},
   "outputs": [
    {
     "name": "stdout",
     "output_type": "stream",
     "text": [
      "10and50\n"
     ]
    }
   ],
   "source": [
    "#string formatting in python \n",
    "a=10\n",
    "b=50\n",
    "print(\"{}and{}\".format(a,b))"
   ]
  },
  {
   "cell_type": "code",
   "execution_count": 3,
   "id": "974d4401",
   "metadata": {},
   "outputs": [
    {
     "name": "stdout",
     "output_type": "stream",
     "text": [
      "7\n"
     ]
    }
   ],
   "source": [
    "#count the string lenth\n",
    "n=1*\"mahesh \"\n",
    "print(len(n))\n",
    "\n"
   ]
  },
  {
   "cell_type": "code",
   "execution_count": 2,
   "id": "19594d10",
   "metadata": {},
   "outputs": [
    {
     "name": "stdout",
     "output_type": "stream",
     "text": [
      "(20, 'milan', 10, 25, 35)\n",
      "<class 'tuple'>\n"
     ]
    }
   ],
   "source": [
    "#tuple \n",
    "t=(20,'milan',10,25,35)\n",
    "print(t)\n",
    "print(type(t))\n"
   ]
  },
  {
   "cell_type": "code",
   "execution_count": 6,
   "id": "1d536b8f",
   "metadata": {},
   "outputs": [
    {
     "name": "stdout",
     "output_type": "stream",
     "text": [
      "{0, 1, 3, 5, 6, 8}\n",
      "{0, 2, 4, 6, 'cow', 8, 'cat', 'COW', 'dog1'}\n",
      "{2, 4}\n",
      "{'cow', 'cat', 'COW'}\n",
      "{'DOG', 'cat2'}\n",
      "{'DOG', 'cow', 'cat', 'COW', 'cat2'}\n",
      "{'DOG', 'cow', 'cat', 'COW', 'cat2'}\n"
     ]
    }
   ],
   "source": [
    "#sets\n",
    "ss1={'cat','dog1','cow',\"COW\"}\n",
    "ss2={0,2,4,6,8}\n",
    "ss3={1,2,3,4,5}\n",
    "ss4={'cat2','dog1',\"DOG\"}\n",
    "print(ss3^ss2)\n",
    "print(ss1|ss2)\n",
    "print(ss2&ss3)\n",
    "print(ss1-ss4)\n",
    "print(ss4-ss1)\n",
    "print(ss1^ss4)\n",
    "print(ss4^ss1)"
   ]
  },
  {
   "cell_type": "code",
   "execution_count": 11,
   "id": "a4aea807",
   "metadata": {},
   "outputs": [
    {
     "name": "stdout",
     "output_type": "stream",
     "text": [
      "ee\n"
     ]
    }
   ],
   "source": [
    "#tuple \n",
    "x=['a',['bb',['ccc','ddd'],'ee','ff'],'g',['hh','ii'],'j']\n",
    "len(x)\n",
    "\n",
    "print(x[1][1:3][1])"
   ]
  },
  {
   "cell_type": "code",
   "execution_count": 15,
   "id": "da8199d5",
   "metadata": {},
   "outputs": [
    {
     "name": "stdout",
     "output_type": "stream",
     "text": [
      "jigar\n",
      "manish\n",
      "sagar\n",
      "jignesh\n",
      "nitesh\n"
     ]
    }
   ],
   "source": [
    "#for loop use \n",
    "name=['jigar','manish','sagar','jignesh','nitesh']\n",
    "for i in name:\n",
    "    print(i)"
   ]
  },
  {
   "cell_type": "code",
   "execution_count": 18,
   "id": "3b119b43",
   "metadata": {},
   "outputs": [
    {
     "name": "stdout",
     "output_type": "stream",
     "text": [
      "-54\n",
      "-81\n",
      "-90\n",
      "-30\n"
     ]
    }
   ],
   "source": [
    "#print the negitve numbars from a given sequence \n",
    "nu=[6,3,5,-54,-81,-90,-30,50,30]\n",
    "for i in nu:\n",
    "    if i<1:\n",
    "    print(i)"
   ]
  },
  {
   "cell_type": "code",
   "execution_count": 71,
   "id": "d4bb7ee5",
   "metadata": {},
   "outputs": [
    {
     "name": "stdout",
     "output_type": "stream",
     "text": [
      "3\n"
     ]
    }
   ],
   "source": [
    "n=[65,26,3,6,95,36,-22,-52]\n",
    "for i in n:\n",
    "    j=2\n",
    "    while(j<=i):\n",
    "        if(i % j)==0:\n",
    "            break\n",
    "        j=j+1\n",
    "        if(j==i):\n",
    "       \n",
    "           print(i)\n",
    "   "
   ]
  },
  {
   "cell_type": "code",
   "execution_count": 70,
   "id": "815dd7c5",
   "metadata": {},
   "outputs": [
    {
     "name": "stdout",
     "output_type": "stream",
     "text": [
      "enter the number3\n"
     ]
    }
   ],
   "source": [
    "n=input(\"enter the number\")\n",
    "j=int(n)\n",
    "if j > 1:\n",
    "    for i in range(2,int(j/2)+1):\n",
    "        if(j % i)==0:\n",
    "            print(\"this is prime number\")\n",
    "         \n",
    "        else:\n",
    "            print(\"this is not prime\")"
   ]
  },
  {
   "cell_type": "code",
   "execution_count": 17,
   "id": "d4fba468",
   "metadata": {},
   "outputs": [
    {
     "name": "stdout",
     "output_type": "stream",
     "text": [
      "enter the number..5\n",
      "120\n"
     ]
    }
   ],
   "source": [
    "#factorial number \n",
    "f=int(input(\"enter the number..\"))\n",
    "sum=1\n",
    "l=1\n",
    "while(l<=f):\n",
    "    sum=sum*l\n",
    "    l=l+1\n",
    "print(sum)\n",
    "\n"
   ]
  },
  {
   "cell_type": "code",
   "execution_count": 19,
   "id": "4aec7d53",
   "metadata": {},
   "outputs": [
    {
     "name": "stdout",
     "output_type": "stream",
     "text": [
      "manish\n"
     ]
    }
   ],
   "source": [
    "#list \n",
    "a=['milan','manish','jigar']\n",
    "print(a[1])"
   ]
  },
  {
   "cell_type": "code",
   "execution_count": 28,
   "id": "4de93e99",
   "metadata": {},
   "outputs": [
    {
     "name": "stdout",
     "output_type": "stream",
     "text": [
      "enter the num26322cs\n",
      "this student are not cc dipartment\n"
     ]
    }
   ],
   "source": [
    "r=input(\"enter the num\")\n",
    "if(r>'cs'and'CS'):\n",
    "    print('this student are cc dipartment ')\n",
    "else: \n",
    "    print('this student are not cc dipartment')"
   ]
  },
  {
   "cell_type": "code",
   "execution_count": 4,
   "id": "72662009",
   "metadata": {},
   "outputs": [
    {
     "name": "stdout",
     "output_type": "stream",
     "text": [
      "enter the blood group 1:-B+\n",
      "enter the blood group 2:-AB-\n",
      "blood group not match\n"
     ]
    }
   ],
   "source": [
    "#match blood groups \n",
    "b1=input(\"enter the blood group 1:-\")\n",
    "b2=input(\"enter the blood group 2:-\")\n",
    "if(b1==b2):\n",
    "    print(\"blood group match\")\n",
    "else:\n",
    "        print(\"blood group not match\")"
   ]
  },
  {
   "cell_type": "code",
   "execution_count": null,
   "id": "94fb9c22",
   "metadata": {},
   "outputs": [],
   "source": [
    "n=\"welcome to gujarat vidhyapith\"\n",
    "print(n[0:7])\n",
    "print(n[0:19])\n",
    "print(n[:-1])\n",
    "print(n[1:6])\n",
    "print(n[6:-5])\n",
    "print(n[-3:-1])\n",
    "print(n[0:30])\n"
   ]
  }
 ],
 "metadata": {
  "kernelspec": {
   "display_name": "Python 3 (ipykernel)",
   "language": "python",
   "name": "python3"
  },
  "language_info": {
   "codemirror_mode": {
    "name": "ipython",
    "version": 3
   },
   "file_extension": ".py",
   "mimetype": "text/x-python",
   "name": "python",
   "nbconvert_exporter": "python",
   "pygments_lexer": "ipython3",
   "version": "3.9.6"
  }
 },
 "nbformat": 4,
 "nbformat_minor": 5
}
