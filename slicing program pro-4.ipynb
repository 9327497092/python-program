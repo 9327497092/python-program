{
 "cells": [
  {
   "cell_type": "code",
   "execution_count": 1,
   "id": "3c351ea9",
   "metadata": {},
   "outputs": [
    {
     "name": "stdout",
     "output_type": "stream",
     "text": [
      "GUJARAT VIDYAPITH\n",
      "G\n",
      "GUJ\n",
      "H\n",
      "GUJARAT VIDYAPIT\n",
      "HYTU\n"
     ]
    }
   ],
   "source": [
    "#slicing program pro-4\n",
    "n='GUJARAT VIDYAPITH'\n",
    "print(n)\n",
    "print(n[0])\n",
    "print(n[0:3])\n",
    "print(n[-1])\n",
    "print(n[:-1])\n",
    "print(n[-1::-5])"
   ]
  },
  {
   "cell_type": "code",
   "execution_count": null,
   "id": "20f36e0b",
   "metadata": {},
   "outputs": [],
   "source": []
  }
 ],
 "metadata": {
  "kernelspec": {
   "display_name": "Python 3 (ipykernel)",
   "language": "python",
   "name": "python3"
  },
  "language_info": {
   "codemirror_mode": {
    "name": "ipython",
    "version": 3
   },
   "file_extension": ".py",
   "mimetype": "text/x-python",
   "name": "python",
   "nbconvert_exporter": "python",
   "pygments_lexer": "ipython3",
   "version": "3.9.6"
  }
 },
 "nbformat": 4,
 "nbformat_minor": 5
}
