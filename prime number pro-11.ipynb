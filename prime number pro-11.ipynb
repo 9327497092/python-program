{
 "cells": [
  {
   "cell_type": "code",
   "execution_count": null,
   "id": "6781f52c",
   "metadata": {},
   "outputs": [],
   "source": [
    "# enter the number prime or not\n",
    "num1=input(\"enter the number\")\n",
    "num=int(num1)\n",
    "if num > 1:\n",
    "   for i in range(2,int(num/2)+1):\n",
    "        if(num % i)==0:\n",
    "            print(num,\"is not prime number\")\n",
    "            break\n",
    "        else:\n",
    "            print(num,\"the number is prime\")\n",
    "else:\n",
    "        print(num,\"the number is not prime\")"
   ]
  }
 ],
 "metadata": {
  "kernelspec": {
   "display_name": "Python 3 (ipykernel)",
   "language": "python",
   "name": "python3"
  },
  "language_info": {
   "codemirror_mode": {
    "name": "ipython",
    "version": 3
   },
   "file_extension": ".py",
   "mimetype": "text/x-python",
   "name": "python",
   "nbconvert_exporter": "python",
   "pygments_lexer": "ipython3",
   "version": "3.9.6"
  }
 },
 "nbformat": 4,
 "nbformat_minor": 5
}
