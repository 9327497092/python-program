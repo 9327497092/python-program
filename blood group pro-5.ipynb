{
 "cells": [
  {
   "cell_type": "code",
   "execution_count": null,
   "id": "5684c0e1",
   "metadata": {},
   "outputs": [],
   "source": [
    "#match blood groups \n",
    "b1=input(\"enter the blood group 1:-\")\n",
    "b2=input(\"enter the blood group 2:-\")\n",
    "if(b1==b2):\n",
    "    print(\"blood group match\")\n",
    "else:\n",
    "        print(\"blood group not match\")"
   ]
  }
 ],
 "metadata": {
  "kernelspec": {
   "display_name": "Python 3 (ipykernel)",
   "language": "python",
   "name": "python3"
  },
  "language_info": {
   "codemirror_mode": {
    "name": "ipython",
    "version": 3
   },
   "file_extension": ".py",
   "mimetype": "text/x-python",
   "name": "python",
   "nbconvert_exporter": "python",
   "pygments_lexer": "ipython3",
   "version": "3.9.6"
  }
 },
 "nbformat": 4,
 "nbformat_minor": 5
}
